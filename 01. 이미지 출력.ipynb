{
 "cells": [
  {
   "cell_type": "markdown",
   "id": "8b5b7067",
   "metadata": {},
   "source": [
    "# 환경 설정\n",
    "Anaconda Prompt 에서 다음 명령 수행\n",
    "> pip install opencv-python"
   ]
  },
  {
   "cell_type": "code",
   "execution_count": 1,
   "id": "4c1522e4",
   "metadata": {},
   "outputs": [
    {
     "data": {
      "text/plain": [
       "'4.8.0'"
      ]
     },
     "execution_count": 1,
     "metadata": {},
     "output_type": "execute_result"
    }
   ],
   "source": [
    "import cv2\n",
    "cv2.__version__  # 잘 깔려있는지 __version__ 확인"
   ]
  },
  {
   "cell_type": "markdown",
   "id": "3277faa7",
   "metadata": {},
   "source": [
    "# OpenCV(Computer Vision)\n",
    "다양한 영상 (이미지) / 동영상 처리에 사용되는 오픈소스 라이브러리"
   ]
  },
  {
   "cell_type": "markdown",
   "id": "83395014",
   "metadata": {},
   "source": [
    "# 1. 이미지 출력\n",
    "- pixabay.com"
   ]
  },
  {
   "cell_type": "code",
   "execution_count": 4,
   "id": "e8aeae63",
   "metadata": {},
   "outputs": [],
   "source": [
    "import cv2\n",
    "img = cv2.imread('cat.jpg')  # 해당 경로의 파일 읽어오기\n",
    "cv2.imshow('AppA_Windows', img)  # AppA_Windows 라는 이름의 창에 img 를 표시\n",
    "cv2.waitKey(0) # 0 은 무한정 대기라는 의미 : while True: pass 와 같은 의미 ; 5000(ms) 은 5초\n",
    "cv2.destroyAllWindows()  # 모든 창 닫기"
   ]
  },
  {
   "cell_type": "code",
   "execution_count": 12,
   "id": "26abd6db",
   "metadata": {},
   "outputs": [
    {
     "name": "stdout",
     "output_type": "stream",
     "text": [
      "-1\n"
     ]
    }
   ],
   "source": [
    "import cv2\n",
    "img = cv2.imread('cat.jpg')  # 해당 경로의 파일 읽어오기\n",
    "cv2.imshow('AppA_Windows', img)  # AppA_Windows 라는 이름의 창에 img 를 표시\n",
    "key = cv2.waitKey(0) # 여기서 이것을 key라는 변수에 받고 \n",
    "print(key)           # 실행시킨후 A 키를 눌러보면,,97..B키눌,,,98..->아스키코드 : 이것은 내가 A 키를 눌렀을때 어떤 동작을 하고\n",
    "                     # 싶을때 사용할수 있다...우선은 참고로만..현재 위 코드는 아무거나 누르면 창이 닫힌다라는 말\n",
    "cv2.destroyAllWindows()  # 모든 창 닫기"
   ]
  },
  {
   "cell_type": "code",
   "execution_count": 7,
   "id": "bf5a77cf",
   "metadata": {},
   "outputs": [],
   "source": [
    "import cv2  # 다시 앞의 코딩으로..\n",
    "img = cv2.imread('cat.jpg')  # 해당 경로의 파일 읽어오기\n",
    "cv2.imshow('AppA_Windows', img)  # AppA_Windows 라는 이름의 창에 img 를 표시\n",
    "cv2.waitKey(0) # 0 은 무한정 대기라는 의미 : while True: pass 와 같은 의미 ; 5000(ms) 은 5초\n",
    "cv2.destroyAllWindows()  # 모든 창 닫기"
   ]
  },
  {
   "cell_type": "markdown",
   "id": "2c4dc3d4",
   "metadata": {},
   "source": [
    "## 읽기 옵션\n",
    "1. cv2.IMREAD_COLOR : 컬러 이미지 , 투명 영역은 무시 (기본값)\n",
    "2. cv2.IMREAD_GRAYSCALE : 흑백 이미지\n",
    "3. cv2.IMREAD_UNCHANGED : 투명 영역까지 포함해서 가져오라는 의미"
   ]
  },
  {
   "cell_type": "code",
   "execution_count": 10,
   "id": "22282f09",
   "metadata": {},
   "outputs": [],
   "source": [
    "import cv2 \n",
    "img_color = cv2.imread('cat.jpg', cv2.IMREAD_COLOR) \n",
    "img_gray = cv2.imread('cat.jpg', cv2.IMREAD_GRAYSCALE) \n",
    "img_unchanged = cv2.imread('cat.jpg', cv2.IMREAD_UNCHANGED) \n",
    "\n",
    "cv2.imshow('AppA_Windows_img_color', img_color) \n",
    "cv2.imshow('AppA_Windows_img_gray', img_gray)\n",
    "cv2.imshow('AppA_Windows_img_unchanged', img_unchanged)\n",
    "\n",
    "cv2.waitKey(0)\n",
    "cv2.destroyAllWindows()"
   ]
  },
  {
   "cell_type": "markdown",
   "id": "adeb6c85",
   "metadata": {},
   "source": [
    "## shape\n",
    "이미지의 height, width, channel 정보"
   ]
  },
  {
   "cell_type": "code",
   "execution_count": 11,
   "id": "c77b975f",
   "metadata": {},
   "outputs": [
    {
     "data": {
      "text/plain": [
       "(391, 640, 3)"
      ]
     },
     "execution_count": 11,
     "metadata": {},
     "output_type": "execute_result"
    }
   ],
   "source": [
    "import cv2\n",
    "img = cv2.imread('cat.jpg')\n",
    "img.shape  # 세로, 가로, Channel  // 아래 값의 3은 r, g, b ...이 3개의 값을 갖는다는 의미."
   ]
  }
 ],
 "metadata": {
  "kernelspec": {
   "display_name": "Python 3 (ipykernel)",
   "language": "python",
   "name": "python3"
  },
  "language_info": {
   "codemirror_mode": {
    "name": "ipython",
    "version": 3
   },
   "file_extension": ".py",
   "mimetype": "text/x-python",
   "name": "python",
   "nbconvert_exporter": "python",
   "pygments_lexer": "ipython3",
   "version": "3.11.3"
  }
 },
 "nbformat": 4,
 "nbformat_minor": 5
}

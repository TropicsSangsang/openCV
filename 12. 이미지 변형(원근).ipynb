{
 "cells": [
  {
   "cell_type": "markdown",
   "id": "88ba3b4b",
   "metadata": {},
   "source": [
    "# 12. 이미지 변형(원근)"
   ]
  },
  {
   "cell_type": "markdown",
   "id": "4acf2c3e",
   "metadata": {},
   "source": [
    "## 사다리꼴 이미지 펼치기"
   ]
  },
  {
   "cell_type": "code",
   "execution_count": 3,
   "id": "c589e3d1",
   "metadata": {},
   "outputs": [],
   "source": [
    "import cv2  \n",
    "import numpy as np\n",
    "\n",
    "img = cv2.imread('newspaper.jpg')\n",
    "\n",
    "width, height = 640, 240 # 가로 크기 640, 세로 크기 240 으로 결과물 출력\n",
    "\n",
    "src = np.array([[511, 352], [1008, 345], [1122, 584], [455, 594]], dtype=np.float32)  # input 4개 지정\n",
    "dst = np.array([[0, 0], [width, 0], [width, height], [0, height]], dtype=np.float32)  # output 4개 지정\n",
    "# 좌상, 우상, 우하, 좌하 (시계 방향으로 4지점 정의)\n",
    "\n",
    "matrix = cv2.getPerspectiveTransform(src, dst)  # Matrix 얻어옴, 즉 src의 좌표가 dst 의 좌표로 변환을 함\n",
    "result = cv2.warpPerspective(img, matrix, (width, height))  # matrix 대로 변환을 함\n",
    "      # 가져온 파일(img) 를...어떤 매트릭스(변환된 좌표)에 의해서...어떤 크기에 의해...가져온 데이터를 저장\n",
    "\n",
    "cv2.imshow('img', img)\n",
    "cv2.imshow('result', result)\n",
    "cv2.waitKey(0)\n",
    "cv2.destroyAllWindows()"
   ]
  },
  {
   "cell_type": "markdown",
   "id": "f5c03362",
   "metadata": {},
   "source": [
    "## 회전된 이미지 올바로 세우기"
   ]
  },
  {
   "cell_type": "code",
   "execution_count": 21,
   "id": "7483ae1c",
   "metadata": {},
   "outputs": [],
   "source": [
    "import cv2  \n",
    "import numpy as np\n",
    "\n",
    "img = cv2.imread('poker-1.jpg')\n",
    "\n",
    "width, height = 210, 350 # 가로 크기 530, 세로 크기 710 으로 결과물 출력\n",
    "\n",
    "src = np.array([[352, 74], [567, 209], [361, 503], [140, 348]], dtype=np.float32)  # input 4개 지정\n",
    "dst = np.array([[0, 0], [width, 0], [width, height], [0, height]], dtype=np.float32)  # output 4개 지정\n",
    "# 좌상, 우상, 우하, 좌하 (시계 방향으로 4지점 정의)\n",
    "\n",
    "matrix = cv2.getPerspectiveTransform(src, dst)  # Matrix 얻어옴, 즉 src의 좌표가 dst 의 좌표로 변환을 함\n",
    "result = cv2.warpPerspective(img, matrix, (width, height))  # matrix 대로 변환을 함\n",
    "      # 가져온 파일(img) 를...어떤 매트릭스(변환된 좌표)에 의해서...어떤 크기에 의해...가져온 데이터를 저장\n",
    "\n",
    "cv2.imshow('img', img)\n",
    "cv2.imshow('result', result)\n",
    "cv2.waitKey(0)\n",
    "cv2.destroyAllWindows()"
   ]
  },
  {
   "cell_type": "markdown",
   "id": "72fc2126",
   "metadata": {},
   "source": [
    "## 미니 프로젝트 : 반자동 문서 스캐너"
   ]
  },
  {
   "cell_type": "markdown",
   "id": "39937916",
   "metadata": {},
   "source": [
    "###  마우스 이벤트 등록"
   ]
  },
  {
   "cell_type": "code",
   "execution_count": 9,
   "id": "c87e28e9",
   "metadata": {},
   "outputs": [
    {
     "name": "stdout",
     "output_type": "stream",
     "text": [
      "왼쪽 버튼 Down\n",
      "353 71\n",
      "왼쪽 버튼 Up\n",
      "353 71\n",
      "왼쪽 버튼 Down\n",
      "570 209\n",
      "왼쪽 버튼 Up\n",
      "570 209\n",
      "왼쪽 버튼 Down\n",
      "362 503\n",
      "왼쪽 버튼 Up\n",
      "362 503\n",
      "왼쪽 버튼 Down\n",
      "142 350\n",
      "왼쪽 버튼 Up\n",
      "142 350\n",
      "왼쪽 버튼 Down\n",
      "351 71\n",
      "왼쪽 버튼 Up\n",
      "351 71\n",
      "왼쪽 버튼 Double Click\n",
      "왼쪽 버튼 Up\n",
      "352 70\n"
     ]
    }
   ],
   "source": [
    "import cv2\n",
    "\n",
    "def mouse_handler(event, x, y, flags, param):\n",
    "    if event == cv2.EVENT_LBUTTONDOWN:  # 마우스 왼쪽 버튼 눌렀을때\n",
    "        print('왼쪽 버튼 Down')\n",
    "        print(x, y)\n",
    "    elif event == cv2.EVENT_LBUTTONUP:  # 마우스 왼쪽 버튼 up\n",
    "        print('왼쪽 버튼 Up')\n",
    "        print(x, y)\n",
    "    elif event == cv2.EVENT_LBUTTONDBLCLK:  # 마우스 왼쪽 버튼 더블 클릭\n",
    "        print('왼쪽 버튼 Double Click')\n",
    "#     elif event == cv2.EVENT_MOUSEMOVE:   # 마우스 이동\n",
    "#         print('마우스 이동')\n",
    "    elif event == cv2.EVENT_RBUTTONDOWN:  # 오른쪽 버튼 Down\n",
    "        print('오른쪽 버튼 Down')\n",
    "        \n",
    "img = cv2.imread('poker-1.jpg')\n",
    "cv2.namedWindow('AppA') \n",
    "       # 이벤트 처리를 위해...AppA 란 이름의 윈도우를 먼저 만들어 두는 것. 여기에 마우스 이벤트를 처리하기 위한 핸들러 적용\n",
    "cv2.setMouseCallback('AppA', mouse_handler) #  AppA 란 창을 mouse_handler 라는 함수를 이용해 이벤트 처리\n",
    "\n",
    "cv2.imshow('AppA', img)\n",
    "cv2.waitKey(0)\n",
    "cv2.destroyAllWindows()"
   ]
  },
  {
   "cell_type": "markdown",
   "id": "c18294ad",
   "metadata": {},
   "source": [
    "### 프로젝트"
   ]
  },
  {
   "cell_type": "code",
   "execution_count": 12,
   "id": "69c24945",
   "metadata": {},
   "outputs": [],
   "source": [
    "import cv2\n",
    "import numpy as np\n",
    "\n",
    "point_list = []  #  @우선 만들어 두고...\n",
    "src_img = cv2.imread('poker-1.jpg')\n",
    "\n",
    "COLOR = (255, 0, 255)   # 핑크\n",
    "\n",
    "def mouse_handler(event, x, y, flags, param):\n",
    "    if event == cv2.EVENT_LBUTTONDOWN:  # 마우스 왼쪽 버튼 눌렀을때--> 받아올 좌표를 리스트로 받아야 하므로 -> point_list로--@\n",
    "        point_list.append((x, y))\n",
    "        \n",
    "    for point in point_list: # 마우스로 클릭 했을때 ---> 표시를 해보는...\n",
    "        cv2.circle(src_img, point,15, COLOR, cv2.FILLED)   \n",
    "        # 원 그리기, src_img 에 중심점은 (x, y)가 있으므로 그냥 point로, 반지름은 5, 컬러, 그리고 꽉채우기 위해...cv2.FILLED\n",
    "        \n",
    "    if len(point_list) == 4:\n",
    "        show_result()   # 결과 출력\n",
    "        \n",
    "    cv2.imshow('AppA', src_img)   # AppA 창에 변경된 이미지를 src_img 에 다시 넣어 준다\n",
    "    \n",
    "def show_result():\n",
    "    width, height = 210, 350 # 가로 크기 530, 세로 크기 710 으로 결과물 출력\n",
    "    src = np.float32(point_list)       # 이렇게 하면 4개의 리스트로 만들어준다는\n",
    "    dst = np.array([[0, 0], [width, 0], [width, height], [0, height]], dtype=np.float32)  # output 4개 지정\n",
    "            # 좌상, 우상, 우하, 좌하 (시계 방향으로 4지점 정의)\n",
    "\n",
    "    matrix = cv2.getPerspectiveTransform(src, dst)  # Matrix 얻어옴, 즉 src의 좌표가 dst 의 좌표로 변환을 함\n",
    "    result = cv2.warpPerspective(img, matrix, (width, height))  # matrix 대로 변환을 함\n",
    "      # 가져온 파일(img) 를...어떤 매트릭스(변환된 좌표)에 의해서...어떤 크기에 의해...가져온 데이터를 저장\n",
    "    cv2.imshow('result', result)\n",
    "\n",
    "cv2.namedWindow('AppA') # AppA 란 이름의 윈도우를 먼저 만들어 두는 것. 여기에 마우스 이벤트를 처리하기 위한 핸들러 적용\n",
    "cv2.setMouseCallback('AppA', mouse_handler)\n",
    "\n",
    "cv2.imshow('AppA', src_img)\n",
    "cv2.waitKey(0)\n",
    "cv2.destroyAllWindows()"
   ]
  },
  {
   "cell_type": "markdown",
   "id": "808ea236",
   "metadata": {},
   "source": [
    "### 프로젝트(지점 선긋기)"
   ]
  },
  {
   "cell_type": "code",
   "execution_count": 15,
   "id": "879576e5",
   "metadata": {},
   "outputs": [],
   "source": [
    "import cv2\n",
    "import numpy as np\n",
    "\n",
    "point_list = []  #  @우선 만들어 두고...\n",
    "src_img = cv2.imread('poker-1.jpg')\n",
    "\n",
    "COLOR = (255, 0, 255)   # 핑크  \n",
    "THICKNESS = 3  # 직선을 그리기 위해서는 두께가 필요해!!\n",
    "drawing =False # 선을 그릴지 여부 : 한번 클릭후에는 True 로 바꿔줘야 함\n",
    "\n",
    "def mouse_handler(event, x, y, flags, param):\n",
    "    global drawing #drawing 을 이 함수 안에서 바꿔줘야 하는데 함수 밖에 있는 변수 이용해야 하므로..global로 \n",
    "    \n",
    "    if event == cv2.EVENT_LBUTTONDOWN:  # 마우스 왼쪽 버튼 눌렀을때--> 받아올 좌표를 리스트로 받아야 하므로 -> point_list로--@\n",
    "        drawing = True # 선을 그리기 시작\n",
    "        point_list.append((x, y))\n",
    "        \n",
    "    if drawing:  # 선을 그리기 시작하면\n",
    "        prev_point = None  # 직선의 시작점\n",
    "        for point in point_list: # 마우스로 클릭 했을때 ---> 표시를 해보는...\n",
    "            cv2.circle(src_img, point,15, COLOR, cv2.FILLED)   \n",
    "            if prev_point:\n",
    "                cv2.line(src_img, prev_point, point, COLOR, THICKNESS, cv2.LINE_AA)\n",
    "            prev_point = point\n",
    "                \n",
    "    if len(point_list) == 4:\n",
    "        \n",
    "        show_result()   # 결과 출력\n",
    "    cv2.imshow('AppA', src_img)   # AppA 창에 변경된 이미지를 src_img 에 다시 넣어 준다\n",
    "    \n",
    "def show_result():\n",
    "    width, height = 530, 710 # 가로 크기 530, 세로 크기 710 으로 결과물 출력\n",
    "    src = np.float32(point_list)       # 이렇게 하면 4개의 리스트로 만들어준다는\n",
    "    dst = np.array([[0, 0], [width, 0], [width, height], [0, height]], dtype=np.float32)  # output 4개 지정\n",
    "            # 좌상, 우상, 우하, 좌하 (시계 방향으로 4지점 정의)\n",
    "\n",
    "    matrix = cv2.getPerspectiveTransform(src, dst)  # Matrix 얻어옴, 즉 src의 좌표가 dst 의 좌표로 변환을 함\n",
    "    result = cv2.warpPerspective(img, matrix, (width, height))  # matrix 대로 변환을 함\n",
    "      # 가져온 파일(img) 를...어떤 매트릭스(변환된 좌표)에 의해서...어떤 크기에 의해...가져온 데이터를 저장\n",
    "    cv2.imshow('result', result)\n",
    "\n",
    "cv2.namedWindow('AppA') # AppA 란 이름의 윈도우를 먼저 만들어 두는 것. 여기에 마우스 이벤트를 처리하기 위한 핸들러 적용\n",
    "cv2.setMouseCallback('AppA', mouse_handler)\n",
    "\n",
    "cv2.imshow('AppA', src_img)\n",
    "cv2.waitKey(0)\n",
    "cv2.destroyAllWindows()"
   ]
  },
  {
   "cell_type": "markdown",
   "id": "4e7a2a68",
   "metadata": {},
   "source": [
    "### 프로젝트(실시간 선긋기)"
   ]
  },
  {
   "cell_type": "code",
   "execution_count": 19,
   "id": "73198940",
   "metadata": {},
   "outputs": [],
   "source": [
    "import cv2\n",
    "import numpy as np\n",
    "\n",
    "point_list = []  #  @우선 만들어 두고...\n",
    "src_img = cv2.imread('poker-1.jpg')\n",
    "\n",
    "COLOR = (255, 0, 255)   # 핑크  \n",
    "THICKNESS = 3  # 직선을 그리기 위해서는 두께가 필요해!!\n",
    "drawing =False # 선을 그릴지 여부 : 한번 클릭후에는 True 로 바꿔줘야 함\n",
    "\n",
    "def mouse_handler(event, x, y, flags, param):\n",
    "    global drawing #drawing 을 이 함수 안에서 바꿔줘야 하는데 함수 밖에 있는 변수 이용해야 하므로..global로 \n",
    "    dst_img = src_img.copy()  # 위의 src_img 를 카피하여 dst_img에 저장하고 mouse_handler 안에서는  dst_img로 처리한다\n",
    "                              # 이렇게 안하면 선을 그으면서 그림판 위를 휩쓸고 지나가게 됨\n",
    "    if event == cv2.EVENT_LBUTTONDOWN:  # 마우스 왼쪽 버튼 눌렀을때--> 받아올 좌표를 리스트로 받아야 하므로 -> point_list로--@\n",
    "        drawing = True # 선을 그리기 시작\n",
    "        point_list.append((x, y))\n",
    "        \n",
    "    if drawing:  # 선을 그리기 시작하면\n",
    "        prev_point = None  # 직선의 시작점\n",
    "        for point in point_list: # 마우스로 클릭 했을때 ---> 표시를 해보는...\n",
    "            cv2.circle(dst_img, point,15, COLOR, cv2.FILLED)   \n",
    "            if prev_point:\n",
    "                cv2.line(dst_img, prev_point, point, COLOR, THICKNESS, cv2.LINE_AA)\n",
    "            prev_point = point    # for ~ 여기까지는 시작점부터 4번째 점까지 연결하고....그다음이--->\n",
    "        \n",
    "        next_point = (x, y)\n",
    "        if len(point_list) == 4:\n",
    "            show_result()   # 결과 출력\n",
    "            next_point = point_list[0]  # 첫번째 클릭한 지점\n",
    "        cv2.line(dst_img, prev_point, next_point, COLOR, THICKNESS, cv2.LINE_AA)\n",
    "                                  #  ---> 네번째 점에서 첫번쨰점으로 연결하는 부분이다\n",
    "\n",
    "        \n",
    "    cv2.imshow('AppA', dst_img)   # AppA 창에 변경된 이미지를 src_img 에 다시 넣어 준다\n",
    "    \n",
    "def show_result():\n",
    "    width, height = 530, 710 # 가로 크기 530, 세로 크기 710 으로 결과물 출력\n",
    "    src = np.float32(point_list)       # 이렇게 하면 4개의 리스트로 만들어준다는\n",
    "    dst = np.array([[0, 0], [width, 0], [width, height], [0, height]], dtype=np.float32)  # output 4개 지정\n",
    "            # 좌상, 우상, 우하, 좌하 (시계 방향으로 4지점 정의)\n",
    "\n",
    "    matrix = cv2.getPerspectiveTransform(src, dst)  # Matrix 얻어옴, 즉 src의 좌표가 dst 의 좌표로 변환을 함\n",
    "    result = cv2.warpPerspective(img, matrix, (width, height))  # matrix 대로 변환을 함\n",
    "      # 가져온 파일(img) 를...어떤 매트릭스(변환된 좌표)에 의해서...어떤 크기에 의해...가져온 데이터를 저장\n",
    "    cv2.imshow('result', result)\n",
    "\n",
    "cv2.namedWindow('AppA') # AppA 란 이름의 윈도우를 먼저 만들어 두는 것. 여기에 마우스 이벤트를 처리하기 위한 핸들러 적용\n",
    "cv2.setMouseCallback('AppA', mouse_handler)\n",
    "\n",
    "cv2.imshow('AppA', src_img)\n",
    "cv2.waitKey(0)\n",
    "cv2.destroyAllWindows()"
   ]
  }
 ],
 "metadata": {
  "kernelspec": {
   "display_name": "Python 3 (ipykernel)",
   "language": "python",
   "name": "python3"
  },
  "language_info": {
   "codemirror_mode": {
    "name": "ipython",
    "version": 3
   },
   "file_extension": ".py",
   "mimetype": "text/x-python",
   "name": "python",
   "nbconvert_exporter": "python",
   "pygments_lexer": "ipython3",
   "version": "3.11.3"
  }
 },
 "nbformat": 4,
 "nbformat_minor": 5
}

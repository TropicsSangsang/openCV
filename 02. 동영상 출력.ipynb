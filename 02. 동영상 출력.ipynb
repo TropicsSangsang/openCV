{
 "cells": [
  {
   "cell_type": "markdown",
   "id": "59805308",
   "metadata": {},
   "source": [
    "# 2. 동영상 출력"
   ]
  },
  {
   "cell_type": "markdown",
   "id": "f1f3f943",
   "metadata": {},
   "source": [
    "## 동영상 파일 출력\n",
    "- pexels.com"
   ]
  },
  {
   "cell_type": "code",
   "execution_count": 17,
   "id": "2d7a752e",
   "metadata": {},
   "outputs": [
    {
     "name": "stdout",
     "output_type": "stream",
     "text": [
      "사용자 입력에 의해 종료합니다\n"
     ]
    }
   ],
   "source": [
    "import cv2\n",
    "cap = cv2.VideoCapture('video_cat.mp4')\n",
    "\n",
    "while cap.isOpened():  # 동영상 파일이 올바로 열렸는지? 열려 있다면...반복문 안에 작업 수행\n",
    "    ret, frame = cap.read()   # ret : 성공여부 , frame : 받아온 이미지(프레임)\n",
    "                              # 두개를 리턴하는데 성공여부(ret)와 성공(True)하면 그때 가져온 것을 frame 에 저장한다\n",
    "    if not ret:     # ret 가 False 라고 하면은...\n",
    "        print('더 이상 가져올 프레임이 없어요')\n",
    "        break       # 가져올 프레임이 없으면 반복문을 탈출해야 하므로...\n",
    "\n",
    "    cv2.imshow('AppA_Windows', frame) # 성공한 동영상 보여주기\n",
    "    # 너무 길어서 중간에 끌수도 있으므로...\n",
    "    if cv2.waitKey(25) == ord('q'):  # waitKey를 1 ms 동안 실행하는데, 그 반환값이 97이나 98등을 반환\n",
    "    # 하게 할수 있는데 그 값이 ord()라는 함수와 비교하는데 그값이 q 라고 설정하면...\n",
    "        print('사용자 입력에 의해 종료합니다')\n",
    "        break\n",
    "\n",
    "cap.release()  # 자원 해제  : 더이상 반복문에 사용할 동영상이 없어져서...자원 해제를 하고...\n",
    "cv2.destroyAllWindows()  # 모든 창 닫기"
   ]
  },
  {
   "cell_type": "markdown",
   "id": "1f920f76",
   "metadata": {},
   "source": [
    "## 카메라 출력"
   ]
  },
  {
   "cell_type": "code",
   "execution_count": 18,
   "id": "981f2f29",
   "metadata": {},
   "outputs": [],
   "source": [
    "import cv2\n",
    "cap = cv2.VideoCapture(0)    # 0번쨰 카메라 장치(Device ID)\n",
    "\n",
    "if not cap.isOpened():   # 카메라가 잘 열리지 않는 경우\n",
    "    exit()   # 프로그램 종료\n",
    "    \n",
    "while True:\n",
    "    ret, frame = cap.read()\n",
    "    if not ret:\n",
    "        break\n",
    "    \n",
    "    cv2.imshow('AppA', frame)\n",
    "    if cv2.waitKey(25) == ord('q'):  # 사용자가 q 를 입력하면\n",
    "        break\n",
    "cap.release()   # 열었던 cap 장치를...자원 반환을 위하여...    \n",
    "cv2.destroyAllWindows()  # 모든 창 닫기"
   ]
  }
 ],
 "metadata": {
  "kernelspec": {
   "display_name": "Python 3 (ipykernel)",
   "language": "python",
   "name": "python3"
  },
  "language_info": {
   "codemirror_mode": {
    "name": "ipython",
    "version": 3
   },
   "file_extension": ".py",
   "mimetype": "text/x-python",
   "name": "python",
   "nbconvert_exporter": "python",
   "pygments_lexer": "ipython3",
   "version": "3.11.3"
  }
 },
 "nbformat": 4,
 "nbformat_minor": 5
}

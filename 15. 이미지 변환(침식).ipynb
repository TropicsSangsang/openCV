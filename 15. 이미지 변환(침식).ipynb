{
 "cells": [
  {
   "cell_type": "markdown",
   "id": "eb54b751",
   "metadata": {},
   "source": [
    "# 15. 이미지 변환(침식)\n",
    "## 이미지를 깎아서 노이즈 제거\n",
    "흰색 영역의 외곽 픽셀을 검은색으로 변경 : 침식(Erosion)"
   ]
  },
  {
   "cell_type": "code",
   "execution_count": 1,
   "id": "476f74c4",
   "metadata": {},
   "outputs": [],
   "source": [
    "import cv2     # 팽창과 침식을 하기 위해서는 kernel 이 필요하고 이것은 numpy 를 import 해야한다\n",
    "import numpy as np\n",
    "\n",
    "kernel = np.ones((3, 3), dtype=np.uint8) \n",
    "# kernel\n",
    "\n",
    "img = cv2.imread('erode.png', cv2.IMREAD_GRAYSCALE)\n",
    "erode1 = cv2.erode(img, kernel, iterations=1)  # 반복 횟수\n",
    "erode2 = cv2.erode(img, kernel, iterations=2)\n",
    "erode3 = cv2.erode(img, kernel, iterations=3)\n",
    "\n",
    "cv2.imshow('gray', img)\n",
    "cv2.imshow('erode1', erode1)\n",
    "cv2.imshow('erode2', erode2)\n",
    "cv2.imshow('erode3', erode3)\n",
    "cv2.waitKey(0)\n",
    "cv2.destroyAllWindows()"
   ]
  }
 ],
 "metadata": {
  "kernelspec": {
   "display_name": "Python 3 (ipykernel)",
   "language": "python",
   "name": "python3"
  },
  "language_info": {
   "codemirror_mode": {
    "name": "ipython",
    "version": 3
   },
   "file_extension": ".py",
   "mimetype": "text/x-python",
   "name": "python",
   "nbconvert_exporter": "python",
   "pygments_lexer": "ipython3",
   "version": "3.11.3"
  }
 },
 "nbformat": 4,
 "nbformat_minor": 5
}

{
 "cells": [
  {
   "cell_type": "markdown",
   "id": "2941c028",
   "metadata": {},
   "source": [
    "# 3. 도형 그리기"
   ]
  },
  {
   "cell_type": "markdown",
   "id": "532fe4ea",
   "metadata": {},
   "source": [
    "## 빈 스케치북 만들기"
   ]
  },
  {
   "cell_type": "code",
   "execution_count": 1,
   "id": "387ace6e",
   "metadata": {},
   "outputs": [],
   "source": [
    "import cv2\n",
    "import numpy as np\n",
    "\n",
    "# 세로 480 X 가로 640, 3 Channel (RGB) 에 해당하는 스케치북 만들기\n",
    "img = np.zeros((480, 640, 3), dtype=np.uint8) # numpy를 이용해서 크기는 480X640, 3채널인 내부는 0으로 채운거 만들기,(0,0,0) 은 검정색\n",
    "# img[:] = (255, 255, 255)  # 전체 공간을 흰 색으로 채우기 // (주의!!)rgb(x)-->bgr(0) : (255, 0, 0) ->파란색으로 나옴\n",
    "# print(img)\n",
    "cv2.imshow('img', img)\n",
    "cv2.waitKey(0)\n",
    "cv2.destroyAllWindows()"
   ]
  },
  {
   "cell_type": "markdown",
   "id": "01a7731c",
   "metadata": {},
   "source": [
    "## 일부 영역 색칠"
   ]
  },
  {
   "cell_type": "code",
   "execution_count": 1,
   "id": "74e8e37a",
   "metadata": {},
   "outputs": [],
   "source": [
    "import cv2\n",
    "import numpy as np\n",
    "\n",
    "img = np.zeros((480, 640, 3), dtype=np.uint8) # 0으로 채워져서 검정색\n",
    "img[100:200, 200:300] = (255, 255, 255)    # 이 부분은 흰색\n",
    "  # [세로 : 영역, 가로 : 영역]\n",
    "cv2.imshow('img', img)\n",
    "cv2.waitKey(0)\n",
    "cv2.destroyAllWindows()"
   ]
  },
  {
   "cell_type": "markdown",
   "id": "276adf02",
   "metadata": {},
   "source": [
    "## 직선\n",
    "직선의 종류(line type)\n",
    "\n",
    "1. cv2.LINE_4 : 상하좌우 4방향으로 연결된 선\n",
    "2. cv2.LINE_8 : 대각선을 포함한 8 방향으로 연결된 선(기본값)\n",
    "3. cv2.LINE_AA : 부드러운 선(anti-aliasing)"
   ]
  },
  {
   "cell_type": "code",
   "execution_count": 4,
   "id": "472e96de",
   "metadata": {},
   "outputs": [],
   "source": [
    "import cv2\n",
    "import numpy as np\n",
    "\n",
    "img = np.zeros((480, 640, 3), dtype=np.uint8) # 빈 스케치북...\n",
    "\n",
    "COLOR = (0, 255, 255)  # BGR : Yellow\n",
    "THICKNESS = 3 # 두께\n",
    "\n",
    "cv2.line(img, (50, 100), (400, 50), COLOR, THICKNESS, cv2.LINE_8)   # 빈 스케치북에...( x, y )시작좌표, 끝좌표,...\n",
    "# (그릴위치(img),(시작점),(끝점),   색깔,    두께,   선 종류 )\n",
    "\n",
    "cv2.imshow('AppA', img)\n",
    "cv2.waitKey(0)\n",
    "cv2.destroyAllWindows()"
   ]
  },
  {
   "cell_type": "code",
   "execution_count": 6,
   "id": "0dedb838",
   "metadata": {},
   "outputs": [],
   "source": [
    "import cv2\n",
    "import numpy as np\n",
    "\n",
    "img = np.zeros((480, 640, 3), dtype=np.uint8) \n",
    "\n",
    "COLOR = (0, 255, 255)  # BGR : Yellow\n",
    "THICKNESS = 3 # 두께\n",
    "\n",
    "cv2.line(img, (50, 100), (400, 50), COLOR, THICKNESS, cv2.LINE_8)   # ( x, y )\n",
    "# (그릴위치(img),(시작점),(끝점),   색깔,    두께,   선 종류 )\n",
    "cv2.line(img, (50, 200), (400, 150), COLOR, THICKNESS, cv2.LINE_4) \n",
    "cv2.line(img, (50, 300), (400, 250), COLOR, THICKNESS, cv2.LINE_AA) \n",
    "\n",
    "cv2.imshow('AppA', img)\n",
    "cv2.waitKey(0)\n",
    "cv2.destroyAllWindows()"
   ]
  },
  {
   "cell_type": "markdown",
   "id": "91a203a9",
   "metadata": {},
   "source": [
    "## 원"
   ]
  },
  {
   "cell_type": "code",
   "execution_count": 12,
   "id": "00f18144",
   "metadata": {},
   "outputs": [],
   "source": [
    "import cv2\n",
    "import numpy as np\n",
    "\n",
    "img = np.zeros((480, 640, 3), dtype=np.uint8) \n",
    "\n",
    "COLOR = (255, 255, 0)  # BGR : 옥색\n",
    "RADIUS = 50   # 반지름\n",
    "THICKNESS = 1 # 두께\n",
    "\n",
    "cv2.circle(img, (200, 100), RADIUS, COLOR, THICKNESS, cv2.LINE_AA) # 속이 빈 원\n",
    "# 그릴위치(img),( 중심 ),   반지름,  색깔,    두께,   선 종류\n",
    "cv2.circle(img, (400, 100), RADIUS, COLOR, cv2.FILLED, cv2.LINE_AA) # 속이 꽉찬 원\n",
    "cv2.circle(img, (200, 300), RADIUS, (0, 0, 255), -1, cv2.LINE_AA) # 속이 꽉찬 원  // RED\n",
    "\n",
    "cv2.imshow('AppA', img)\n",
    "cv2.waitKey(0)\n",
    "cv2.destroyAllWindows()"
   ]
  },
  {
   "cell_type": "markdown",
   "id": "8f748e61",
   "metadata": {},
   "source": [
    "## 사각형"
   ]
  },
  {
   "cell_type": "code",
   "execution_count": 15,
   "id": "97c77ce1",
   "metadata": {},
   "outputs": [],
   "source": [
    "import cv2\n",
    "import numpy as np\n",
    "\n",
    "img = np.zeros((480, 640, 3), dtype=np.uint8) \n",
    "\n",
    "COLOR = (0, 255, 0)  # BGR : 초록색\n",
    "THICKNESS = 3 # 두께\n",
    "\n",
    "cv2.rectangle(img, (100, 100), (200, 200), COLOR, THICKNESS) # 속이 빈 사각형\n",
    "#   그릴 위치, 왼쪽 위 좌표, 오른쪽 아래 좌표, 색깔, 두께\n",
    "cv2.rectangle(img, (300, 100), (400, 300), COLOR, cv2.FILLED) # 속이 꽉 찬 사각형\n",
    "\n",
    "cv2.imshow('AppA', img)\n",
    "cv2.waitKey(0)\n",
    "cv2.destroyAllWindows()"
   ]
  },
  {
   "cell_type": "markdown",
   "id": "38e12f1e",
   "metadata": {},
   "source": [
    "## 다각형"
   ]
  },
  {
   "cell_type": "code",
   "execution_count": 21,
   "id": "cde1f091",
   "metadata": {},
   "outputs": [],
   "source": [
    "import cv2\n",
    "import numpy as np\n",
    "\n",
    "img = np.zeros((480, 640, 3), dtype=np.uint8) \n",
    "\n",
    "COLOR = (0, 0, 255)  # BGR : 빨간색\n",
    "THICKNESS = 3 # 두께\n",
    "\n",
    "pts1 = np.array([[100, 100], [200, 100], [100, 200]])\n",
    "pts2 = np.array([[200, 100], [300, 100], [300, 200]])\n",
    "\n",
    "# cv2.polylines(img, [pts1], True, COLOR, THICKNESS,  cv2.LINE_AA) # False 는 처음과 끝점이 연결이 안됨\n",
    "# cv2.polylines(img, [pts2], True, COLOR, THICKNESS,  cv2.LINE_AA)\n",
    "cv2.polylines(img, [pts1, pts2], True, COLOR, THICKNESS,  cv2.LINE_AA) # 위처럼 따로따로 만들어도 되지만, 리스트로 감싸져 있는\n",
    "                          # 이유가 여러개를 넣을수 있게 하기 위한 것이므로....지금 처럼 리스트로 처리해도 위와 똑같은 결과가 나옴\n",
    "# 그릴 위치, 그릴 좌표들(리스트), 닫힘 여부, 색깔, 두께, 선 종류\n",
    "\n",
    "pts3 = np.array([[[100, 300], [200, 300], [100, 400]],[[200, 300], [300, 300], [300, 400]]])\n",
    "cv2.fillPoly(img, pts3, COLOR, cv2.LINE_AA)  # 꽉찬 다각형\n",
    " # 그릴 위치, 그릴 좌표들, 색깔, 선종류\n",
    "cv2.imshow('AppA', img)\n",
    "cv2.waitKey(0)\n",
    "cv2.destroyAllWindows()"
   ]
  }
 ],
 "metadata": {
  "kernelspec": {
   "display_name": "Python 3 (ipykernel)",
   "language": "python",
   "name": "python3"
  },
  "language_info": {
   "codemirror_mode": {
    "name": "ipython",
    "version": 3
   },
   "file_extension": ".py",
   "mimetype": "text/x-python",
   "name": "python",
   "nbconvert_exporter": "python",
   "pygments_lexer": "ipython3",
   "version": "3.11.3"
  }
 },
 "nbformat": 4,
 "nbformat_minor": 5
}

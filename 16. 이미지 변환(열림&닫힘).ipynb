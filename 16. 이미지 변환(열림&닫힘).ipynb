{
 "cells": [
  {
   "cell_type": "markdown",
   "id": "26f0be7c",
   "metadata": {},
   "source": [
    "# 16. 이미지 변환(열림&닫힘)\n",
    "## 열림(Opening) : 침식 후 팽찯. 깎아서 노이즈 제거 후 살 찌움\n",
    "> dilate(erode(img))"
   ]
  },
  {
   "cell_type": "code",
   "execution_count": 5,
   "id": "a25072d7",
   "metadata": {},
   "outputs": [],
   "source": [
    "import cv2     # 팽창과 침식을 하기 위해서는 kernel 이 필요하고 이것은 numpy 를 import 해야한다\n",
    "import numpy as np\n",
    "\n",
    "kernel = np.ones((3, 3), dtype=np.uint8) \n",
    "\n",
    "img = cv2.imread('erode.png', cv2.IMREAD_GRAYSCALE)\n",
    "\n",
    "erode = cv2.erode(img, kernel, iterations=3)   # 노이즈가 제거 되고...\n",
    "dilate = cv2.dilate(erode, kernel, iterations=3)  # 제거된 데이터로 부터 팽창시킨 ...\n",
    "\n",
    "cv2.imshow('img', img)\n",
    "cv2.imshow('erode', erode)\n",
    "cv2.imshow('dilate', dilate)\n",
    "cv2.waitKey(0)\n",
    "cv2.destroyAllWindows()"
   ]
  },
  {
   "cell_type": "markdown",
   "id": "a2f94723",
   "metadata": {},
   "source": [
    "## 닫힘(Closing) : 팽창 후 침식. 구멍을 메운 후 다시 깍음\n",
    "> erode(dilate(img))"
   ]
  },
  {
   "cell_type": "code",
   "execution_count": 6,
   "id": "068d16d4",
   "metadata": {},
   "outputs": [],
   "source": [
    "import cv2     # 팽창과 침식을 하기 위해서는 kernel 이 필요하고 이것은 numpy 를 import 해야한다\n",
    "import numpy as np\n",
    "\n",
    "kernel = np.ones((3, 3), dtype=np.uint8) \n",
    "\n",
    "img = cv2.imread('dilate.png', cv2.IMREAD_GRAYSCALE)\n",
    "\n",
    "dilate = cv2.dilate(img, kernel, iterations=3)  \n",
    "erode = cv2.erode(dilate, kernel, iterations=3)   \n",
    "\n",
    "\n",
    "cv2.imshow('img', img)\n",
    "cv2.imshow('dilate', dilate)\n",
    "cv2.imshow('erode', erode)\n",
    "\n",
    "cv2.waitKey(0)\n",
    "cv2.destroyAllWindows()"
   ]
  }
 ],
 "metadata": {
  "kernelspec": {
   "display_name": "Python 3 (ipykernel)",
   "language": "python",
   "name": "python3"
  },
  "language_info": {
   "codemirror_mode": {
    "name": "ipython",
    "version": 3
   },
   "file_extension": ".py",
   "mimetype": "text/x-python",
   "name": "python",
   "nbconvert_exporter": "python",
   "pygments_lexer": "ipython3",
   "version": "3.11.3"
  }
 },
 "nbformat": 4,
 "nbformat_minor": 5
}

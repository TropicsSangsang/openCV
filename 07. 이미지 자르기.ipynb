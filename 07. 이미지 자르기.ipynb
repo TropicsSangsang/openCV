{
 "cells": [
  {
   "cell_type": "markdown",
   "id": "85e26938",
   "metadata": {},
   "source": [
    "# 7. 이미지 자르기"
   ]
  },
  {
   "cell_type": "markdown",
   "id": "1e828061",
   "metadata": {},
   "source": [
    "### 영역을 잘라서 새로운 윈도우(창)에 표시"
   ]
  },
  {
   "cell_type": "code",
   "execution_count": 1,
   "id": "f782778e",
   "metadata": {},
   "outputs": [],
   "source": [
    "import cv2\n",
    "img = cv2.imread('cat.jpg')\n",
    "\n",
    "# img.shape   # ((391, 640, 3))\n",
    "\n",
    "crop = img[100:200, 200:400]   # [세로범위, 가로범위] 기준으로 자름\n",
    "\n",
    "cv2.imshow('img', img)  # 원본 이미지\n",
    "cv2.imshow('crop', crop)\n",
    "cv2.waitKey(0)\n",
    "cv2.destroyAllWindows()"
   ]
  },
  {
   "cell_type": "markdown",
   "id": "155cad02",
   "metadata": {},
   "source": [
    "### 영역을 잘라서 기존 윈도우에 표시"
   ]
  },
  {
   "cell_type": "code",
   "execution_count": 3,
   "id": "37ab3b44",
   "metadata": {},
   "outputs": [],
   "source": [
    "import cv2\n",
    "img = cv2.imread('cat.jpg')\n",
    "\n",
    "crop = img[100:200, 200:400]   # [세로범위, 가로범위] 기준으로 잘라서 crop 변수에 저장\n",
    "img[100:200, 400:600] = crop   # 그 저장된 crop 를 원본 이미지(img)의 다른 영역에 저장\n",
    "\n",
    "cv2.imshow('img', img)  # 다시 저장된 img를 img 창에 띄움\n",
    "\n",
    "cv2.waitKey(0)\n",
    "cv2.destroyAllWindows()"
   ]
  }
 ],
 "metadata": {
  "kernelspec": {
   "display_name": "Python 3 (ipykernel)",
   "language": "python",
   "name": "python3"
  },
  "language_info": {
   "codemirror_mode": {
    "name": "ipython",
    "version": 3
   },
   "file_extension": ".py",
   "mimetype": "text/x-python",
   "name": "python",
   "nbconvert_exporter": "python",
   "pygments_lexer": "ipython3",
   "version": "3.11.3"
  }
 },
 "nbformat": 4,
 "nbformat_minor": 5
}

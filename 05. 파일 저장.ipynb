{
 "cells": [
  {
   "cell_type": "markdown",
   "id": "ebbfc964",
   "metadata": {},
   "source": [
    "# 5. 파일 저장"
   ]
  },
  {
   "cell_type": "markdown",
   "id": "289d27c1",
   "metadata": {},
   "source": [
    "## 이미지 저장"
   ]
  },
  {
   "cell_type": "code",
   "execution_count": 1,
   "id": "6f25dd3e",
   "metadata": {},
   "outputs": [],
   "source": [
    "import cv2  # 이미지 불러오기\n",
    "img = cv2.imread('cat.jpg', cv2.IMREAD_GRAYSCALE)  # 흑백으로 이미지 불러오기\n",
    "cv2.imshow('img', img)\n",
    "cv2.waitKey(0)\n",
    "cv2.destroyAllWindows()"
   ]
  },
  {
   "cell_type": "code",
   "execution_count": 2,
   "id": "ee22c84c",
   "metadata": {},
   "outputs": [
    {
     "name": "stdout",
     "output_type": "stream",
     "text": [
      "True\n"
     ]
    }
   ],
   "source": [
    "import cv2   # 불러온 이미지 저장하기\n",
    "img = cv2.imread('cat.jpg', cv2.IMREAD_GRAYSCALE)  # 흑백으로 이미지 불러오기\n",
    "cv2.imshow('img', img)\n",
    "cv2.waitKey(0) # 실행 시키면 사진이 떠 있는 상태는 아직 이 위치에 있으므로 아래 코드의 print 실행 안된. 사진 끄면 True 반환함\n",
    "cv2.destroyAllWindows()\n",
    "\n",
    "result = cv2.imwrite('cat_save.jpg', img) # 'cat_save.jpg' 이름으로 , 위의 불러온 데이터(img)를 저장\n",
    "print(result)   # 실제로 저장만 하는거면 Line 1, 2, 7(result 변수 필요X) 만 있어도 된다..아래에서 보여줌"
   ]
  },
  {
   "cell_type": "markdown",
   "id": "2aea9358",
   "metadata": {},
   "source": [
    "## 저장 포맷(jpg, png)"
   ]
  },
  {
   "cell_type": "code",
   "execution_count": 3,
   "id": "569297a4",
   "metadata": {},
   "outputs": [
    {
     "data": {
      "text/plain": [
       "True"
      ]
     },
     "execution_count": 3,
     "metadata": {},
     "output_type": "execute_result"
    }
   ],
   "source": [
    "import cv2\n",
    "img = cv2.imread('cat.jpg', cv2.IMREAD_GRAYSCALE)  # 흑백으로 이미지 불러오기\n",
    "cv2.imwrite('cat_save.png', img)  # png 파일로 저장"
   ]
  },
  {
   "cell_type": "markdown",
   "id": "baf176fc",
   "metadata": {},
   "source": [
    "## 동영상 저장"
   ]
  },
  {
   "cell_type": "code",
   "execution_count": 4,
   "id": "06b8dbc7",
   "metadata": {},
   "outputs": [],
   "source": [
    "import cv2  # 동영상 불러오기\n",
    "cap = cv2.VideoCapture('video_cat.mp4')\n",
    "\n",
    "while cap.isOpened(): \n",
    "    ret, frame = cap.read()   \n",
    "    if not ret:    \n",
    "        break      \n",
    "\n",
    "    cv2.imshow('AppA_Windows', frame) \n",
    "    if cv2.waitKey(25) == ord('q'):  \n",
    "        break\n",
    "\n",
    "cap.release() \n",
    "cv2.destroyAllWindows() "
   ]
  },
  {
   "cell_type": "code",
   "execution_count": 11,
   "id": "0648b4d9",
   "metadata": {},
   "outputs": [],
   "source": [
    "import cv2  # 불러온 동영상을 다른 형태로 저장하기  --> 우선 해야할 것이 코덱부터 정의 하여야...\n",
    "cap = cv2.VideoCapture('video_cat.mp4')\n",
    "\n",
    "# 코덱 정의\n",
    "fourcc = cv2.VideoWriter_fourcc(*'DIVX')\n",
    "# 크기와 속도 가져오기 : 다르게 가져 올수 있지만 여기서는 불러온 동영상과 같은 걸로 하기로...\n",
    "width = round(cap.get(cv2.CAP_PROP_FRAME_WIDTH)) # 위의 불러온 동영상과 같은 Width 로, 반올림해서 정수 처리위해 round()로 감싼다\n",
    "height = round(cap.get(cv2.CAP_PROP_FRAME_HEIGHT))\n",
    "fps = cap.get(cv2.CAP_PROP_FPS)   # 속도 가져오기\n",
    "# fps = cap.get(cv2.CAP_PROP_FPS)*3  # 속도 배속으로 가져오기 (3배 속도)\n",
    "\n",
    "out = cv2.VideoWriter('cat_output.avi', fourcc, fps, (width, height))\n",
    "# out = cv2.VideoWriter('cat_output_mul_3.avi', fourcc, fps, (width, height))\n",
    "# 저장하는데(저장 파일명) 위의 코덱이 *'DIVX'이므로 avi 로 + 코덱 , 속도, 크기(width, height)...\n",
    "while cap.isOpened(): \n",
    "    ret, frame = cap.read()   # 불러온 동영상이 있으면 그것을 frame에 저장하고--->\n",
    "    if not ret:    \n",
    "        break      \n",
    "                       # 영상 데이터만 저장 ( 소리 X )\n",
    "    out.write(frame)   # ---> frame을 받아오면 위의 out변수에 파일명, 코덱, 속도, 크기를 '여기서' 저장한다 // 저장만 하고 보여주지 X \n",
    "    cv2.imshow('AppA_Windows', frame) # AppA_Windows 창에 뜬 동영상은 원본 파일 그리고 끝난후 나가서 파일 찾아보면 avi 파일이 존재 0\n",
    "    if cv2.waitKey(1) == ord('q'):  \n",
    "        break\n",
    "\n",
    "out.release()         # 자원 해제 \n",
    "cap.release() \n",
    "cv2.destroyAllWindows() "
   ]
  },
  {
   "cell_type": "code",
   "execution_count": 6,
   "id": "1bceaa24",
   "metadata": {},
   "outputs": [
    {
     "name": "stdout",
     "output_type": "stream",
     "text": [
      "DIVX\n",
      "D I V X\n",
      "['DIVX']\n",
      "['D', 'I', 'V', 'X']\n"
     ]
    }
   ],
   "source": [
    "codec = 'DIVX'\n",
    "print(codec)\n",
    "print(*codec)\n",
    "print([codec])\n",
    "print([*codec])"
   ]
  },
  {
   "cell_type": "code",
   "execution_count": null,
   "id": "4225c179",
   "metadata": {},
   "outputs": [],
   "source": []
  },
  {
   "cell_type": "code",
   "execution_count": null,
   "id": "830a22eb",
   "metadata": {},
   "outputs": [],
   "source": []
  },
  {
   "cell_type": "code",
   "execution_count": null,
   "id": "0c8943b3",
   "metadata": {},
   "outputs": [],
   "source": []
  }
 ],
 "metadata": {
  "kernelspec": {
   "display_name": "Python 3 (ipykernel)",
   "language": "python",
   "name": "python3"
  },
  "language_info": {
   "codemirror_mode": {
    "name": "ipython",
    "version": 3
   },
   "file_extension": ".py",
   "mimetype": "text/x-python",
   "name": "python",
   "nbconvert_exporter": "python",
   "pygments_lexer": "ipython3",
   "version": "3.11.3"
  }
 },
 "nbformat": 4,
 "nbformat_minor": 5
}

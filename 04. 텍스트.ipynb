{
 "cells": [
  {
   "cell_type": "markdown",
   "id": "4f496b26",
   "metadata": {},
   "source": [
    "# 4. 텍스트"
   ]
  },
  {
   "cell_type": "markdown",
   "id": "43e434e8",
   "metadata": {},
   "source": [
    "## OpenCV에서 사용하는 글꼴 종류\n",
    "1. cv2.FONT_HERSHEY_SIMPLEX : 보통 크기의 산 세리프(sans-serif) 글꼴\n",
    "1. cv2.FONT_HERSHEY_PLAIN : 작은 크기의 산 세리프 글꼴\n",
    "1. cv2.FONT_HERSHEY_SCRIPT_SIMPLEX : 필기체 스타일 글꼴\n",
    "1. cv2.FONT_HERSHEY_TRIPLEX : 보통 크기의 세리프 글꼴\n",
    "1. cv2.FONT_ITALIC : 기울임(이탤릭체)"
   ]
  },
  {
   "cell_type": "code",
   "execution_count": 13,
   "id": "54f3b27c",
   "metadata": {},
   "outputs": [],
   "source": [
    "import numpy as np         \n",
    "import cv2\n",
    "\n",
    "img = np.zeros((480, 640, 3), dtype=np.uint8) \n",
    "\n",
    "SCALE = 1  # 글자크기\n",
    "COLOR = (255, 255, 255)  # BGR : 흰색\n",
    "THICKNESS = 1 # 두께\n",
    "\n",
    "cv2.putText(img, \"AppA Simplex\", (20, 25), cv2.FONT_HERSHEY_SIMPLEX, SCALE, COLOR, THICKNESS)\n",
    "#  그릴 위치, 텍스트 내용, 시작 위치, 폰트 종류, 크기, 색깔, 두께\n",
    "cv2.imshow('AppA_Windows', img)\n",
    "cv2.waitKey(0)\n",
    "cv2.destroyAllWindows()"
   ]
  },
  {
   "cell_type": "code",
   "execution_count": 14,
   "id": "5c570039",
   "metadata": {},
   "outputs": [],
   "source": [
    "import numpy as np     \n",
    "import cv2\n",
    "\n",
    "img = np.zeros((480, 640, 3), dtype=np.uint8)\n",
    "\n",
    "SCALE = 1  # 글자 크기\n",
    "COLOR = (255, 255, 255)  # BGR: 흰색\n",
    "THICKNESS =1  # 두께\n",
    "\n",
    "\n",
    "cv2.putText(img, \"AppA Simplex\", (20, 50), cv2.FONT_HERSHEY_SIMPLEX, SCALE, COLOR, THICKNESS)\n",
    "#  그릴 위치, 텍스트 내용, 시작 위치, 폰트 종류, 크기, 색깔, 두께\n",
    "cv2.putText(img, \"AppA Plain\", (20, 150), cv2.FONT_HERSHEY_PLAIN, SCALE, COLOR, THICKNESS)\n",
    "cv2.putText(img, \"AppA Script Simplex\", (20, 250), cv2.FONT_HERSHEY_SCRIPT_SIMPLEX, SCALE, COLOR, THICKNESS)\n",
    "cv2.putText(img, \"AppA Triplex\", (20, 350), cv2.FONT_HERSHEY_TRIPLEX, SCALE, COLOR, THICKNESS)\n",
    "cv2.putText(img, \"AppA Italic\", (20, 450), cv2.FONT_HERSHEY_TRIPLEX | cv2.FONT_ITALIC, SCALE, COLOR, THICKNESS)\n",
    "  # FONT_ITALIC : 기울임(이탤릭체) 는 다른 폰트와 함꼐 사용\n",
    "\n",
    "cv2.imshow('AppA_Windows', img)\n",
    "cv2.waitKey(0)\n",
    "cv2.destroyAllWindows()"
   ]
  },
  {
   "cell_type": "markdown",
   "id": "a68cf43b",
   "metadata": {},
   "source": [
    "## 한글"
   ]
  },
  {
   "cell_type": "code",
   "execution_count": 15,
   "id": "d6029657",
   "metadata": {},
   "outputs": [],
   "source": [
    "import numpy as np     \n",
    "import cv2\n",
    "\n",
    "img = np.zeros((480, 640, 3), dtype=np.uint8)\n",
    "\n",
    "SCALE = 1  # 글자 크기\n",
    "COLOR = (255, 255, 255)  # BGR: 흰색\n",
    "THICKNESS =1  # 두께\n",
    "\n",
    "\n",
    "cv2.putText(img, \"아빠코딩\", (20, 50), cv2.FONT_HERSHEY_SIMPLEX, SCALE, COLOR, THICKNESS)\n",
    "#  그릴 위치, 텍스트 내용, 시작 위치, 폰트 종류, 크기, 색깔, 두께\n",
    "\n",
    "cv2.imshow('AppA_Windows', img)\n",
    "cv2.waitKey(0)\n",
    "cv2.destroyAllWindows()    # 이렇게 해보면 한글이 ????????? 로 나옴"
   ]
  },
  {
   "cell_type": "markdown",
   "id": "667de044",
   "metadata": {},
   "source": [
    "## 한글 우회 방법"
   ]
  },
  {
   "cell_type": "code",
   "execution_count": 17,
   "id": "13fa228d",
   "metadata": {},
   "outputs": [],
   "source": [
    "import numpy as np     \n",
    "import cv2\n",
    "# PIL (Python Image Library) : 한글을 사용하기 위해서는 PIL 이 필요\n",
    "from PIL import ImageFont, ImageDraw, Image   # 여기 3개를 import하여 아래에 함수를 만들어서, 이를 이용하여 한글 사용 가능하게..\n",
    "\n",
    "def myPutText(src, text, pos, font_size, font_color):\n",
    "    # 텍스트 대상(src)에다가 text 를 어느 위치(pos)에 크기와 색깔은...넣어줌\n",
    "    img_pil = Image.fromarray(src)\n",
    "    draw = ImageDraw.Draw(img_pil)\n",
    "    font = ImageFont.truetype('fonts/gulim.ttc', font_size)\n",
    "    draw.text(pos, text, font=font, fill=font_color)\n",
    "    return np.array(img_pil)\n",
    "\n",
    "img = np.zeros((480, 640, 3), dtype=np.uint8)\n",
    "\n",
    "font_size = 30  \n",
    "font_color = (255, 255, 255)  # BGR: 흰색\n",
    "\n",
    "# cv2.putText(img, \"아빠코딩\", (20, 50), cv2.FONT_HERSHEY_SIMPLEX, SCALE, COLOR, THICKNESS)\n",
    "#  그릴 위치, 텍스트 내용, 시작 위치, 폰트 종류, 크기, 색깔, 두께\n",
    "img = myPutText(img, \"아빠코딩\", (20, 50), font_size, font_color)\n",
    "# 그릴 위치(img)에 글자(\"아빠코딩\")을..어느 위치에..크기 색깔을 함수를 이용...그 리턴값을 다시 img 변수에 저장하고 그걸 넘겨준다.\n",
    "\n",
    "cv2.imshow('AppA_Windows', img)\n",
    "cv2.waitKey(0)\n",
    "cv2.destroyAllWindows()"
   ]
  }
 ],
 "metadata": {
  "kernelspec": {
   "display_name": "Python 3 (ipykernel)",
   "language": "python",
   "name": "python3"
  },
  "language_info": {
   "codemirror_mode": {
    "name": "ipython",
    "version": 3
   },
   "file_extension": ".py",
   "mimetype": "text/x-python",
   "name": "python",
   "nbconvert_exporter": "python",
   "pygments_lexer": "ipython3",
   "version": "3.11.3"
  }
 },
 "nbformat": 4,
 "nbformat_minor": 5
}

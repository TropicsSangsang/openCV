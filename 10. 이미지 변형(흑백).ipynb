{
 "cells": [
  {
   "cell_type": "markdown",
   "id": "c0d45b9a",
   "metadata": {},
   "source": [
    "# 10. 이미지 변형(흑백)\n",
    "- 이미지로부터 필요한 부분 추출"
   ]
  },
  {
   "cell_type": "markdown",
   "id": "17a57af6",
   "metadata": {},
   "source": [
    "### 불러온 이미지를 흑백으로 변경"
   ]
  },
  {
   "cell_type": "code",
   "execution_count": 2,
   "id": "7e83fe0f",
   "metadata": {},
   "outputs": [],
   "source": [
    "import cv2   # 처음부터 흑백으로 불러오는 경우\n",
    "img = cv2.imread('cat.jpg', cv2.IMREAD_GRAYSCALE)\n",
    "cv2.imshow('img', img)\n",
    "cv2.waitKey(0)\n",
    "cv2.destroyAllWindows()"
   ]
  },
  {
   "cell_type": "code",
   "execution_count": 5,
   "id": "3bc8fbe0",
   "metadata": {},
   "outputs": [],
   "source": [
    "import cv2  # 컬러로 불러온 이미지를 흑백으로 전환\n",
    "img = cv2.imread('cat.jpg')\n",
    "\n",
    "dst = cv2.cvtColor(img, cv2.COLOR_BGR2GRAY)\n",
    "    # convert : 바꾸다 -->cvtColor // COLOR_BGR2GRAY-->COLOR_BGR to GRAY\n",
    "cv2.imshow('img', img)\n",
    "cv2.imshow('dst', dst)\n",
    "cv2.waitKey(0)\n",
    "cv2.destroyAllWindows()"
   ]
  }
 ],
 "metadata": {
  "kernelspec": {
   "display_name": "Python 3 (ipykernel)",
   "language": "python",
   "name": "python3"
  },
  "language_info": {
   "codemirror_mode": {
    "name": "ipython",
    "version": 3
   },
   "file_extension": ".py",
   "mimetype": "text/x-python",
   "name": "python",
   "nbconvert_exporter": "python",
   "pygments_lexer": "ipython3",
   "version": "3.11.3"
  }
 },
 "nbformat": 4,
 "nbformat_minor": 5
}

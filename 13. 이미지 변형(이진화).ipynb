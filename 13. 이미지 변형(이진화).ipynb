{
 "cells": [
  {
   "cell_type": "markdown",
   "id": "d5386017",
   "metadata": {},
   "source": [
    "# 13. 이미지 변형(이진화)"
   ]
  },
  {
   "cell_type": "markdown",
   "id": "d4aaec60",
   "metadata": {},
   "source": [
    "## Threshold"
   ]
  },
  {
   "cell_type": "code",
   "execution_count": 11,
   "id": "59de05b2",
   "metadata": {},
   "outputs": [],
   "source": [
    "import cv2\n",
    "img =cv2.imread('book.jpg', cv2.IMREAD_GRAYSCALE)\n",
    "\n",
    "ret, binary = cv2.threshold(img, 180, 255, cv2.THRESH_BINARY) # 임계값 : 127  threshold : 임계함수\n",
    "\n",
    "cv2.imshow('img', img)\n",
    "cv2.imshow('binary', binary)\n",
    "cv2.waitKey(0)\n",
    "cv2.destroyAllWindows()"
   ]
  },
  {
   "cell_type": "markdown",
   "id": "1ffe4700",
   "metadata": {},
   "source": [
    "## Trackbar (값 면화에 따른 변형 확인)"
   ]
  },
  {
   "cell_type": "code",
   "execution_count": 2,
   "id": "6073c03a",
   "metadata": {},
   "outputs": [],
   "source": [
    "import cv2\n",
    "\n",
    "def empty(pos):\n",
    "#     print(pos)\n",
    "    pass\n",
    "\n",
    "img =cv2.imread('book.jpg', cv2.IMREAD_GRAYSCALE)\n",
    "\n",
    "name = 'Trackbar'\n",
    "cv2.namedWindow(name)  # Trackbar 를 쓰기 위해서는 반드시 윈도우 창을 만들어야 한다.\n",
    "\n",
    "cv2.createTrackbar('threshold', name, 127, 255, empty)    \n",
    " # 바의 이름, 바가 들어갈 윈도우 이름, 초기값, 최대값(RGB 기준0~255), empty : 이벤트 처리 함수\n",
    "  # 그리고 트랙바가 왔다갔다 하는 동안에 이미지 바뀌는 걸 보기위해 ---> while 문\n",
    "while True:\n",
    "    thresh = cv2.getTrackbarPos('threshold', name)  # Trackbar 의 위치를 가져오는 함수에 ; 바의 이름, 창의 이름\n",
    "    ret, binary = cv2.threshold(img, thresh, 255, cv2.THRESH_BINARY)\n",
    "\n",
    "    if not ret:\n",
    "        break\n",
    "        \n",
    "    cv2.imshow(name, binary)\n",
    "    if cv2.waitKey(1) == ord('q'):\n",
    "        break\n",
    "        \n",
    "cv2.destroyAllWindows()\n"
   ]
  },
  {
   "cell_type": "markdown",
   "id": "cf854703",
   "metadata": {},
   "source": [
    "### 그림판에서 제작한 이미지로 확인"
   ]
  },
  {
   "cell_type": "code",
   "execution_count": 5,
   "id": "2f3acc11",
   "metadata": {},
   "outputs": [],
   "source": [
    "import cv2\n",
    "\n",
    "def empty(pos):\n",
    "#     print(pos)\n",
    "    pass\n",
    "\n",
    "img =cv2.imread('threshold.png', cv2.IMREAD_GRAYSCALE)\n",
    "\n",
    "name = 'Trackbar'\n",
    "cv2.namedWindow(name)  # Trackbar 라는 이름의 윈도우\n",
    "\n",
    "cv2.createTrackbar('threshold', name, 127, 255, empty)    \n",
    " # 바의 이름, 바가 들어갈 윈도우 이름, 초기값, 최대값(RGB 기준0~255), empty : 이벤트 처리 함수\n",
    "  # 그리고 트랙바가 왔다갔다 하는 동안에 이미지 바뀌는 걸 보기위해 ---> while 문\n",
    "while True:\n",
    "    thresh = cv2.getTrackbarPos('threshold', name)  # Trackbar 의 위치를 가져오는 함수에 ; 바의 이름, 창의 이름\n",
    "    ret, binary = cv2.threshold(img, thresh, 255, cv2.THRESH_BINARY)\n",
    "\n",
    "    if not ret:\n",
    "        break\n",
    "        \n",
    "    cv2.imshow('img', img)\n",
    "    cv2.imshow(name, binary)\n",
    "    if cv2.waitKey(1) == ord('q'):\n",
    "        break\n",
    "        \n",
    "cv2.destroyAllWindows()\n"
   ]
  },
  {
   "cell_type": "code",
   "execution_count": 8,
   "id": "41d881a2",
   "metadata": {},
   "outputs": [],
   "source": [
    "import cv2\n",
    "img =cv2.imread('threshold.png', cv2.IMREAD_GRAYSCALE)\n",
    "\n",
    "ret, binary1 = cv2.threshold(img, 0, 255, cv2.THRESH_BINARY) \n",
    "ret, binary2 = cv2.threshold(img, 127, 255, cv2.THRESH_BINARY)\n",
    "ret, binary3 = cv2.threshold(img, 195, 255, cv2.THRESH_BINARY)\n",
    "\n",
    "cv2.imshow('img', img)\n",
    "cv2.imshow('binary1', binary1) \n",
    "cv2.imshow('binary2', binary2)\n",
    "cv2.imshow('binary3', binary3)\n",
    "cv2.waitKey(0)\n",
    "cv2.destroyAllWindows()"
   ]
  },
  {
   "cell_type": "markdown",
   "id": "580d3fbb",
   "metadata": {},
   "source": [
    "## Adaptive Threshold\n",
    "이미지를 작은 영역으로 나누어서 임계치 적용"
   ]
  },
  {
   "cell_type": "code",
   "execution_count": 9,
   "id": "41681b31",
   "metadata": {},
   "outputs": [
    {
     "ename": "error",
     "evalue": "OpenCV(4.8.0) D:\\a\\opencv-python\\opencv-python\\opencv\\modules\\highgui\\src\\window_w32.cpp:2561: error: (-27:Null pointer) NULL window: 'Trackbar' in function 'cvGetTrackbarPos'\n",
     "output_type": "error",
     "traceback": [
      "\u001b[1;31m---------------------------------------------------------------------------\u001b[0m",
      "\u001b[1;31merror\u001b[0m                                     Traceback (most recent call last)",
      "Cell \u001b[1;32mIn[9], line 20\u001b[0m\n\u001b[0;32m     18\u001b[0m   \u001b[38;5;66;03m# 그리고 트랙바가 왔다갔다 하는 동안에 이미지 바뀌는 걸 보기위해 ---> while 문\u001b[39;00m\n\u001b[0;32m     19\u001b[0m \u001b[38;5;28;01mwhile\u001b[39;00m \u001b[38;5;28;01mTrue\u001b[39;00m:\n\u001b[1;32m---> 20\u001b[0m     block_size \u001b[38;5;241m=\u001b[39m cv2\u001b[38;5;241m.\u001b[39mgetTrackbarPos(\u001b[38;5;124m'\u001b[39m\u001b[38;5;124mblock_size\u001b[39m\u001b[38;5;124m'\u001b[39m, name)  \u001b[38;5;66;03m# Trackbar 의 위치를 가져오는 함수에 ; 바의 이름, 창의 이름\u001b[39;00m\n\u001b[0;32m     21\u001b[0m     c \u001b[38;5;241m=\u001b[39m cv2\u001b[38;5;241m.\u001b[39mgetTrackbarPos(\u001b[38;5;124m'\u001b[39m\u001b[38;5;124mc\u001b[39m\u001b[38;5;124m'\u001b[39m, name)\n\u001b[0;32m     23\u001b[0m     \u001b[38;5;28;01mif\u001b[39;00m block_size \u001b[38;5;241m<\u001b[39m\u001b[38;5;241m=\u001b[39m \u001b[38;5;241m1\u001b[39m:\n",
      "\u001b[1;31merror\u001b[0m: OpenCV(4.8.0) D:\\a\\opencv-python\\opencv-python\\opencv\\modules\\highgui\\src\\window_w32.cpp:2561: error: (-27:Null pointer) NULL window: 'Trackbar' in function 'cvGetTrackbarPos'\n"
     ]
    }
   ],
   "source": [
    "import cv2\n",
    "\n",
    "def empty(pos):\n",
    "#     print(pos)\n",
    "    pass\n",
    "\n",
    "img =cv2.imread('book.jpg', cv2.IMREAD_GRAYSCALE)\n",
    "\n",
    "name = 'Trackbar'\n",
    "cv2.namedWindow(name)  # Trackbar 라는 이름의 윈도우\n",
    "\n",
    " # 바의 이름, 바가 들어갈 윈도우 이름, 초기값, 최대값(RGB 기준0~255), empty : 이벤트 처리 함수\n",
    "cv2.createTrackbar('block_size', name, 25, 100, empty)  # block_size : 홀수만 가능 + 1보다는 큰 값 : 짝수인 경우 처리 필요->if문\n",
    "cv2.createTrackbar('c', name, 3, 10, empty)  # c 는 일반적으로 양수의 값만 사용 : 양수가 아닌 경우 처리 필요-> if문\n",
    "\n",
    "\n",
    "\n",
    "  # 그리고 트랙바가 왔다갔다 하는 동안에 이미지 바뀌는 걸 보기위해 ---> while 문\n",
    "while True:\n",
    "    block_size = cv2.getTrackbarPos('block_size', name)  # Trackbar 의 위치를 가져오는 함수에 ; 바의 이름, 창의 이름\n",
    "    c = cv2.getTrackbarPos('c', name)\n",
    "    \n",
    "    if block_size <= 1:\n",
    "        block_size = 3\n",
    "        \n",
    "    if block_size % 2 == 0:\n",
    "        block_size += 1\n",
    "    \n",
    "    \n",
    "    \n",
    "    binary = cv2.adaptiveThreshold(img, 255, cv2.ADAPTIVE_THRESH_MEAN_C, cv2.THRESH_BINARY, block_size, c)\n",
    "\n",
    "   \n",
    "    cv2.imshow(name, binary)\n",
    "    if cv2.waitKey(1) == ord('q'):\n",
    "        break\n",
    "        \n",
    "cv2.destroyAllWindows()\n"
   ]
  },
  {
   "cell_type": "markdown",
   "id": "b8498ad3",
   "metadata": {},
   "source": [
    "## 오츠 알고리즘\n",
    "임계값을 알아서 찾도록 하는 알고리즘  \n",
    "Bimodal Image 에 사용하기 적합"
   ]
  },
  {
   "cell_type": "code",
   "execution_count": 12,
   "id": "53e119c8",
   "metadata": {},
   "outputs": [
    {
     "name": "stdout",
     "output_type": "stream",
     "text": [
      "otsu threshold : 98.0\n"
     ]
    }
   ],
   "source": [
    "import cv2\n",
    "img =cv2.imread('book.jpg', cv2.IMREAD_GRAYSCALE)\n",
    "\n",
    "ret, binary = cv2.threshold(img, 180, 255, cv2.THRESH_BINARY) # 임계값 : 127  threshold : 임계함수\n",
    "ret, otsu = cv2.threshold(img, -1, 255, cv2.THRESH_BINARY | cv2.THRESH_OTSU)\n",
    "                         # otsu 를 적용하면 최적의 숫자를 찾는거 이므로, 숫자가 의미가 없어서 -1 로 처리\n",
    "print('otsu threshold :',ret )\n",
    "\n",
    "cv2.imshow('img', img)\n",
    "cv2.imshow('binary', binary)\n",
    "cv2.imshow('otsu', otsu)\n",
    "cv2.waitKey(0)\n",
    "cv2.destroyAllWindows()"
   ]
  }
 ],
 "metadata": {
  "kernelspec": {
   "display_name": "Python 3 (ipykernel)",
   "language": "python",
   "name": "python3"
  },
  "language_info": {
   "codemirror_mode": {
    "name": "ipython",
    "version": 3
   },
   "file_extension": ".py",
   "mimetype": "text/x-python",
   "name": "python",
   "nbconvert_exporter": "python",
   "pygments_lexer": "ipython3",
   "version": "3.11.3"
  }
 },
 "nbformat": 4,
 "nbformat_minor": 5
}

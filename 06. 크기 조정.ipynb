{
 "cells": [
  {
   "cell_type": "markdown",
   "id": "1049496c",
   "metadata": {},
   "source": [
    "# 6. 크기 조정"
   ]
  },
  {
   "cell_type": "markdown",
   "id": "5e2769b6",
   "metadata": {},
   "source": [
    "## 이미지"
   ]
  },
  {
   "cell_type": "markdown",
   "id": "f88ffbf3",
   "metadata": {},
   "source": [
    "#### 고정 크기로 설정"
   ]
  },
  {
   "cell_type": "code",
   "execution_count": 2,
   "id": "f3bfd74d",
   "metadata": {},
   "outputs": [],
   "source": [
    "import cv2\n",
    "img = cv2.imread('cat.jpg')\n",
    "dst = cv2.resize(img, (400,500))  # width, height 고정 크기\n",
    "\n",
    "cv2.imshow('img', img)\n",
    "cv2.imshow('resize', dst)\n",
    "cv2.waitKey(0)\n",
    "cv2.destroyAllWindows()"
   ]
  },
  {
   "cell_type": "markdown",
   "id": "6aa58ceb",
   "metadata": {},
   "source": [
    "#### 비율로 설정"
   ]
  },
  {
   "cell_type": "code",
   "execution_count": 4,
   "id": "ec87860a",
   "metadata": {},
   "outputs": [],
   "source": [
    "import cv2\n",
    "img = cv2.imread('cat.jpg')\n",
    "# dst = cv2.resize(img, None, fx=0.5, fy=0.5)  # x, y 비율 정의 (0.5 배로 축소)\n",
    "dst = cv2.resize(img, None, fx=2, fy=2)  # x, y 비율 정의 (2 배로 확대)\n",
    "\n",
    "cv2.imshow('img', img)\n",
    "cv2.imshow('resize', dst)\n",
    "cv2.waitKey(0)\n",
    "cv2.destroyAllWindows()"
   ]
  },
  {
   "cell_type": "markdown",
   "id": "11d72ecc",
   "metadata": {},
   "source": [
    "### 보간법\n",
    "1. cv2.INTER_AREA : 크기 줄일 때 사용\n",
    "2. cv2.INTER_CUBIC : 크기 늘릴 때 사용(속도 느림, 퀄리티 좋음)\n",
    "3. cv2.INTER_LINEAT : 크리 늘릴 때 사용(기본값)"
   ]
  },
  {
   "cell_type": "markdown",
   "id": "749a6304",
   "metadata": {},
   "source": [
    "#### 보간법을 적용하여 축소"
   ]
  },
  {
   "cell_type": "code",
   "execution_count": 5,
   "id": "a3e75497",
   "metadata": {},
   "outputs": [],
   "source": [
    "import cv2\n",
    "img = cv2.imread('cat.jpg')\n",
    "dst = cv2.resize(img, None, fx=0.5, fy=0.5, interpolation=cv2.INTER_AREA )  # x, y 비율 정의 (0.5 배로 축소)\n",
    "                                                                   # 보간법을 적용하기 위해서는 interpolation= 라는 속성을 써준다\n",
    "cv2.imshow('img', img)\n",
    "cv2.imshow('resize', dst)\n",
    "cv2.waitKey(0)\n",
    "cv2.destroyAllWindows()"
   ]
  },
  {
   "cell_type": "markdown",
   "id": "976f8ed8",
   "metadata": {},
   "source": [
    "#### 보간법을 적용하여 확대"
   ]
  },
  {
   "cell_type": "code",
   "execution_count": 6,
   "id": "97d11f76",
   "metadata": {},
   "outputs": [],
   "source": [
    "import cv2\n",
    "img = cv2.imread('cat.jpg')\n",
    "dst = cv2.resize(img, None, fx=1.5, fy=1.5, interpolation=cv2.INTER_CUBIC )  # x, y 비율 정의 (1.5 배로 확대)\n",
    "                                                                   # 보간법을 적용하기 위해서는 interpolation= 라는 속성을 써준다\n",
    "cv2.imshow('img', img)\n",
    "cv2.imshow('resize', dst)\n",
    "cv2.waitKey(0)\n",
    "cv2.destroyAllWindows()"
   ]
  },
  {
   "cell_type": "markdown",
   "id": "6ab5531a",
   "metadata": {},
   "source": [
    "## 동영상"
   ]
  },
  {
   "cell_type": "markdown",
   "id": "1f6c0840",
   "metadata": {},
   "source": [
    "### 고정크기로 설정"
   ]
  },
  {
   "cell_type": "code",
   "execution_count": 8,
   "id": "5a72008f",
   "metadata": {},
   "outputs": [],
   "source": [
    "import cv2  # 동영상 불러오기\n",
    "cap = cv2.VideoCapture('video_cat.mp4')\n",
    "\n",
    "while cap.isOpened(): \n",
    "    ret, frame = cap.read()    # 불러온 동영상을 frame 에 저장\n",
    "    if not ret:    \n",
    "        break      \n",
    "    \n",
    "    frame_resized = cv2.resize(frame, (400, 500)) # frame에 있는 동영상을 (400, 500) 크기로 하여 frame_resized 에 저장\n",
    "    cv2.imshow('AppA_Windows', frame_resized)     # 이것을 보여줌\n",
    "    if cv2.waitKey(25) == ord('q'):  \n",
    "        break\n",
    "\n",
    "cap.release() \n",
    "cv2.destroyAllWindows() "
   ]
  },
  {
   "cell_type": "markdown",
   "id": "ee097bff",
   "metadata": {},
   "source": [
    "### 비율로 설정"
   ]
  },
  {
   "cell_type": "code",
   "execution_count": 9,
   "id": "3adf48bf",
   "metadata": {},
   "outputs": [],
   "source": [
    "import cv2  # 동영상 불러오기\n",
    "cap = cv2.VideoCapture('video_cat.mp4')\n",
    "\n",
    "while cap.isOpened(): \n",
    "    ret, frame = cap.read()    # 불러온 동영상을 frame 에 저장\n",
    "    if not ret:    \n",
    "        break      \n",
    "    \n",
    "    frame_resized = cv2.resize(frame, None, fx=1.5, fy=1.5, interpolation=cv2.INTER_CUBIC) \n",
    "    cv2.imshow('AppA_Windows', frame_resized)     # 이것을 보여줌\n",
    "    if cv2.waitKey(25) == ord('q'):  \n",
    "        break\n",
    "\n",
    "cap.release() \n",
    "cv2.destroyAllWindows() "
   ]
  }
 ],
 "metadata": {
  "kernelspec": {
   "display_name": "Python 3 (ipykernel)",
   "language": "python",
   "name": "python3"
  },
  "language_info": {
   "codemirror_mode": {
    "name": "ipython",
    "version": 3
   },
   "file_extension": ".py",
   "mimetype": "text/x-python",
   "name": "python",
   "nbconvert_exporter": "python",
   "pygments_lexer": "ipython3",
   "version": "3.11.3"
  }
 },
 "nbformat": 4,
 "nbformat_minor": 5
}

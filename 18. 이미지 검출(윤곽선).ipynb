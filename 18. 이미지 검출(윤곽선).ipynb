{
 "cells": [
  {
   "cell_type": "markdown",
   "id": "5e331161",
   "metadata": {},
   "source": [
    "# 18. 이미지 검출(윤곽선)\n",
    "## 윤관선(contour) : 경계선을 연결한 선"
   ]
  },
  {
   "cell_type": "code",
   "execution_count": 3,
   "id": "7e5ee7c6",
   "metadata": {},
   "outputs": [],
   "source": [
    "import cv2    \n",
    "\n",
    "img = cv2.imread('card.png')\n",
    "target_img = img.copy()  # 사본 이미지\n",
    "\n",
    "\n",
    "# 윤곽선 위해서는 우선 이미지를 바이너리 처리를 해야 한다. \n",
    "# 바이너리 처리를 위해서는 threshold 함수를 써야 하는데...\n",
    "#  그전에 불러온 이미지를 흑백이미지로 만든후에 그것을 이용해보자\n",
    "gray = cv2.cvtColor(img, cv2.COLOR_BGR2GRAY) # 불러온 이미지를 그레이로 바꿈\n",
    "# 여기서 이진화를 위해서 오츠 알고리즘을 이용하면...최적의 임계값을 반환\n",
    "ret, otsu = cv2.threshold(gray, -1, 255, cv2.THRESH_BINARY | cv2.THRESH_OTSU)\n",
    "# 오츠 이진화를 통해 윤곽선을 찾아보면...\n",
    "#  윤곽선을 찾는 방법은..findContours 함수 -->1,윤곽선 정보, 2.윤곽선 계층 구조를 반환\n",
    "\n",
    "contours, hierarchy = cv2.findContours(otsu, cv2.RETR_LIST, cv2.CHAIN_APPROX_NONE) # 윤곽선 정보 가져오는 함수\n",
    "# 윤곽선, 계층 구조 =      # 이미지, 윤곽선 찾는 모드(mode), 윤곽선 찾을때 사용하는 근사치 방법(method)\n",
    "# 윤곽선 찾을때 사용하는 근사치 방법(method) : cv2.CHAIN_APPROX_NONE : 모든 좌표 반환\n",
    "                                            #: cv2.CHAIN_APPROX_SIMPLE : 중복을 제외한 꼭지점 좌표만 반환\n",
    "COLOR = (0, 200, 0)  # 녹색\n",
    "cv2.drawContours(target_img, contours, -1, COLOR, 2) # 윤곽선 그리는 함수\n",
    "              # 대상 이미지, 윤곽선 정보, 인덱스(-1이면 전체를 그려줌), 색깔, 두께\n",
    "\n",
    "cv2.imshow('img', img)\n",
    "cv2.imshow('gray', gray)\n",
    "cv2.imshow('otsu', otsu)\n",
    "cv2.imshow('contour', target_img)\n",
    "\n",
    "cv2.waitKey(0)\n",
    "cv2.destroyAllWindows()"
   ]
  },
  {
   "cell_type": "markdown",
   "id": "f0cb7563",
   "metadata": {},
   "source": [
    "### 윤곽선 찾기 모드\n",
    "1. cv2.RETR_EXTERNAL : 가장 외곽의 윤곽선만 찾음\n",
    "2. cv2.RETR_LIST : 모든 윤곽선 찾음(계층 정보 없음)\n",
    "3. cv2.RETR_TREE : 모든 윤곽선 찾음(계층 정보를 트리 구조로 생성)"
   ]
  },
  {
   "cell_type": "code",
   "execution_count": 4,
   "id": "00def044",
   "metadata": {},
   "outputs": [],
   "source": [
    "import cv2    \n",
    "\n",
    "img = cv2.imread('card.png')\n",
    "target_img = img.copy()  # 사본 이미지\n",
    "\n",
    "\n",
    "gray = cv2.cvtColor(img, cv2.COLOR_BGR2GRAY) # 불러온 이미지를 그레이로 바꿈\n",
    "ret, otsu = cv2.threshold(gray, -1, 255, cv2.THRESH_BINARY | cv2.THRESH_OTSU)\n",
    "\n",
    "contours, hierarchy = cv2.findContours(otsu, cv2.RETR_EXTERNAL, cv2.CHAIN_APPROX_NONE)  # 가장 외곽의 윤곽선만 찾음\n",
    "\n",
    "COLOR = (0, 200, 0)  # 녹색\n",
    "cv2.drawContours(target_img, contours, -1, COLOR, 2) # 윤곽선 그리는 함수\n",
    " \n",
    "cv2.imshow('img', img)\n",
    "cv2.imshow('gray', gray)\n",
    "cv2.imshow('otsu', otsu)\n",
    "cv2.imshow('contour', target_img)\n",
    "\n",
    "cv2.waitKey(0)\n",
    "cv2.destroyAllWindows()"
   ]
  },
  {
   "cell_type": "code",
   "execution_count": 19,
   "id": "07ee29ad",
   "metadata": {},
   "outputs": [],
   "source": [
    "import cv2\n",
    "img = cv2.imread('card.png')\n",
    "target_img = img.copy() # 사본 이미지\n",
    "\n",
    "gray = cv2.cvtColor(img, cv2.COLOR_BGR2GRAY)\n",
    "ret, otsu = cv2.threshold(gray, -1, 255, cv2.THRESH_BINARY | cv2.THRESH_OTSU)\n",
    "\n",
    "# contours, hierarchy = cv2.findContours(otsu, cv2.RETR_LIST, cv2.CHAIN_APPROX_NONE)\n",
    "contours, hierarchy = cv2.findContours(otsu, cv2.RETR_EXTERNAL, cv2.CHAIN_APPROX_NONE)\n",
    "# contours, hierarchy = cv2.findContours(otsu, cv2.RETR_TREE, cv2.CHAIN_APPROX_NONE)\n",
    "# print(hierarchy)\n",
    "# print(f'총 발견 갯수 : {len(contours)}')\n",
    "\n",
    "COLOR = (0, 200, 0) # 녹색\n",
    "cv2.drawContours(target_img, contours, -1, COLOR, 2)\n",
    "\n",
    "cv2.imshow('img', img)\n",
    "cv2.imshow('gray', gray)\n",
    "cv2.imshow('otsu', otsu)\n",
    "cv2.imshow('contour', target_img)\n",
    "\n",
    "cv2.waitKey(0)\n",
    "cv2.destroyAllWindows()"
   ]
  },
  {
   "cell_type": "markdown",
   "id": "95addf6b",
   "metadata": {},
   "source": [
    "## 경계 사각형\n",
    "윤곽선의 경계면을 둘러싸는 사각형\n",
    "> boundingRect()"
   ]
  },
  {
   "cell_type": "code",
   "execution_count": 23,
   "id": "f451d5f0",
   "metadata": {},
   "outputs": [],
   "source": [
    "import cv2    \n",
    "\n",
    "img = cv2.imread('card.png')\n",
    "target_img = img.copy()  # 사본 이미지\n",
    "\n",
    "\n",
    "gray = cv2.cvtColor(img, cv2.COLOR_BGR2GRAY) # 불러온 이미지를 그레이로 바꿈\n",
    "ret, otsu = cv2.threshold(gray, -1, 255, cv2.THRESH_BINARY | cv2.THRESH_OTSU)\n",
    "contours, hierarchy = cv2.findContours(otsu, cv2.RETR_LIST, cv2.CHAIN_APPROX_NONE)  # 모든 윤곽선 찾음\n",
    "\n",
    "\n",
    "COLOR = (0, 200, 0)  # 녹색\n",
    "\n",
    "for cnt in contours:\n",
    "    x, y, width, height = cv2.boundingRect(cnt) # 윤곽선을 둘러싸고 있는 사각형 정보를 x값, y값, 가로크기, 세로크기 로 반환\n",
    "    cv2.rectangle(target_img, (x, y), (x + width, y + height), COLOR, 2)   # 사각형 그리기\n",
    "      #  사본 이미지(target_img)에 , 왼쪽 위 좌표, 오른쪽 아래 좌표, 색깔, 두께 \n",
    "\n",
    "\n",
    "\n",
    " \n",
    "cv2.imshow('img', img)\n",
    "cv2.imshow('gray', gray)\n",
    "cv2.imshow('otsu', otsu)\n",
    "cv2.imshow('contour', target_img)\n",
    "\n",
    "cv2.waitKey(0)\n",
    "cv2.destroyAllWindows()"
   ]
  },
  {
   "cell_type": "markdown",
   "id": "cec67f99",
   "metadata": {},
   "source": [
    "## 면적\n",
    "> contourArea()"
   ]
  },
  {
   "cell_type": "code",
   "execution_count": 22,
   "id": "c3baab3c",
   "metadata": {},
   "outputs": [],
   "source": [
    "import cv2    # 특정 면적을 초과하는 사각형만을 그리고 싶어!!!\n",
    "\n",
    "img = cv2.imread('card.png')\n",
    "target_img = img.copy()  # 사본 이미지\n",
    "\n",
    "\n",
    "gray = cv2.cvtColor(img, cv2.COLOR_BGR2GRAY) # 불러온 이미지를 그레이로 바꿈\n",
    "ret, otsu = cv2.threshold(gray, -1, 255, cv2.THRESH_BINARY | cv2.THRESH_OTSU)\n",
    "contours, hierarchy = cv2.findContours(otsu, cv2.RETR_LIST, cv2.CHAIN_APPROX_NONE)  # 모든 윤곽선 찾음\n",
    "\n",
    "\n",
    "COLOR = (0, 200, 0)  # 녹색\n",
    "\n",
    "for cnt in contours:\n",
    "    if cv2.contourArea(cnt) > 25000:  # 카드 크기가 26,500\n",
    "        x, y, width, height = cv2.boundingRect(cnt) # 윤곽선을 둘러싸고 있는 사각형 정보를 x값, y값, 가로크기, 세로크기 로 반환\n",
    "        cv2.rectangle(target_img, (x, y), (x + width, y + height), COLOR, 2)   # 사각형 그리기\n",
    "    \n",
    "   #  카드 한장 크기 : 가로 130 X 세로 205 = 26,650\n",
    " \n",
    "cv2.imshow('img', img)\n",
    "cv2.imshow('contour', target_img)\n",
    "\n",
    "cv2.waitKey(0)\n",
    "cv2.destroyAllWindows()"
   ]
  },
  {
   "cell_type": "markdown",
   "id": "0089cde9",
   "metadata": {},
   "source": [
    "## 미니 프로젝트 : 개별 카드 추출해서 파일 저장"
   ]
  },
  {
   "cell_type": "code",
   "execution_count": 24,
   "id": "286860d5",
   "metadata": {},
   "outputs": [],
   "source": [
    "import cv2    # 특정 면적을 초과하는 사각형의 윤곽선을 찾아서 그 이미지를 뗴와서 별도 파일에 저장해보자\n",
    "\n",
    "img = cv2.imread('card.png')\n",
    "target_img = img.copy()  # 사본 이미지\n",
    "\n",
    "\n",
    "gray = cv2.cvtColor(img, cv2.COLOR_BGR2GRAY) # 불러온 이미지를 그레이로 바꿈\n",
    "ret, otsu = cv2.threshold(gray, -1, 255, cv2.THRESH_BINARY | cv2.THRESH_OTSU)\n",
    "contours, hierarchy = cv2.findContours(otsu, cv2.RETR_LIST, cv2.CHAIN_APPROX_NONE)  # 모든 윤곽선 찾음\n",
    "\n",
    "\n",
    "COLOR = (0, 200, 0)  # 녹색\n",
    "\n",
    "idx = 1\n",
    "for cnt in contours:\n",
    "    if cv2.contourArea(cnt) > 25000:  # 카드 크기가 26,500\n",
    "        x, y, width, height = cv2.boundingRect(cnt) # 윤곽선을 둘러싸고 있는 사각형 정보를 x값, y값, 가로크기, 세로크기 로 반환\n",
    "        cv2.rectangle(target_img, (x, y), (x + width, y + height), COLOR, 2)   # 사각형 그리기\n",
    "    \n",
    "        crop = img[y: y+height, x:x+width]\n",
    "        cv2.imshow(f'card_crop_{idx}', crop)    # 떼온 파일 보여주기\n",
    "        cv2.imwrite(f'card_crop_{idx}.png', crop)  # 떼온 파일 저장\n",
    "        idx += 1\n",
    "\n",
    "cv2.imshow('img', img)\n",
    "cv2.imshow('contour', target_img)\n",
    "\n",
    "cv2.waitKey(0)\n",
    "cv2.destroyAllWindows()"
   ]
  }
 ],
 "metadata": {
  "kernelspec": {
   "display_name": "Python 3 (ipykernel)",
   "language": "python",
   "name": "python3"
  },
  "language_info": {
   "codemirror_mode": {
    "name": "ipython",
    "version": 3
   },
   "file_extension": ".py",
   "mimetype": "text/x-python",
   "name": "python",
   "nbconvert_exporter": "python",
   "pygments_lexer": "ipython3",
   "version": "3.11.3"
  }
 },
 "nbformat": 4,
 "nbformat_minor": 5
}
